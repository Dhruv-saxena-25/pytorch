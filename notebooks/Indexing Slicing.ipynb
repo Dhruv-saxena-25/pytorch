{
 "cells": [
  {
   "cell_type": "code",
   "execution_count": 2,
   "id": "37c5fe45-4341-426e-9252-9e31ef56e2c6",
   "metadata": {},
   "outputs": [],
   "source": [
    "import torch\n",
    "import numpy as np"
   ]
  },
  {
   "cell_type": "markdown",
   "id": "6cb8a609-82cc-4766-b58f-012b11c5cca4",
   "metadata": {},
   "source": [
    "# Indexing, Slicing "
   ]
  },
  {
   "cell_type": "code",
   "execution_count": 4,
   "id": "e7940bf6-1384-4652-988f-92008cf01572",
   "metadata": {},
   "outputs": [
    {
     "data": {
      "text/plain": [
       "tensor([[0.6232, 0.7157, 0.4793, 0.5311],\n",
       "        [0.3298, 0.5751, 0.8214, 0.7975],\n",
       "        [0.3616, 0.1452, 0.6852, 0.2587]])"
      ]
     },
     "execution_count": 4,
     "metadata": {},
     "output_type": "execute_result"
    }
   ],
   "source": [
    "x= torch.rand(size=(3,4))\n",
    "x"
   ]
  },
  {
   "cell_type": "markdown",
   "id": "01d2c324-ee64-4def-a72a-22ef797be14c",
   "metadata": {},
   "source": [
    "x[row, col]\n",
    "\n",
    "row -> start:stop:step\n",
    "\n",
    "col -> start:stop:step"
   ]
  },
  {
   "cell_type": "code",
   "execution_count": 8,
   "id": "68f27342-7ae7-4e90-8cd9-3c3792a6ed90",
   "metadata": {},
   "outputs": [
    {
     "data": {
      "text/plain": [
       "tensor([0.6232, 0.7157, 0.4793, 0.5311])"
      ]
     },
     "execution_count": 8,
     "metadata": {},
     "output_type": "execute_result"
    }
   ],
   "source": [
    "x[0,:]"
   ]
  },
  {
   "cell_type": "code",
   "execution_count": 9,
   "id": "1ec2020c-5e62-4783-944e-c47826a7e0d5",
   "metadata": {},
   "outputs": [
    {
     "data": {
      "text/plain": [
       "tensor([0.6232, 0.3298, 0.3616])"
      ]
     },
     "execution_count": 9,
     "metadata": {},
     "output_type": "execute_result"
    }
   ],
   "source": [
    "x[:,0]"
   ]
  },
  {
   "cell_type": "code",
   "execution_count": 10,
   "id": "41dba088-90de-4412-98f2-6421705b6620",
   "metadata": {},
   "outputs": [
    {
     "data": {
      "text/plain": [
       "tensor([[0.6232, 0.7157, 0.4793],\n",
       "        [0.3298, 0.5751, 0.8214]])"
      ]
     },
     "execution_count": 10,
     "metadata": {},
     "output_type": "execute_result"
    }
   ],
   "source": [
    "x[0:2, 0:3]"
   ]
  },
  {
   "cell_type": "code",
   "execution_count": 11,
   "id": "77571304-7120-475c-8fc5-afe2fbee9e9f",
   "metadata": {},
   "outputs": [
    {
     "data": {
      "text/plain": [
       "tensor([[0.6232, 0.4793],\n",
       "        [0.3298, 0.8214]])"
      ]
     },
     "execution_count": 11,
     "metadata": {},
     "output_type": "execute_result"
    }
   ],
   "source": [
    "x[0:2, 0:3:2]"
   ]
  },
  {
   "cell_type": "code",
   "execution_count": 15,
   "id": "5abcccc7-469e-4cf3-a63a-c90273760701",
   "metadata": {},
   "outputs": [
    {
     "data": {
      "text/plain": [
       "tensor(11.6232)"
      ]
     },
     "execution_count": 15,
     "metadata": {},
     "output_type": "execute_result"
    }
   ],
   "source": [
    "x[0,0] + 11"
   ]
  },
  {
   "cell_type": "code",
   "execution_count": 16,
   "id": "810becf6-fd13-45eb-b9c3-6f344797bc98",
   "metadata": {},
   "outputs": [
    {
     "data": {
      "text/plain": [
       "tensor(0.6232)"
      ]
     },
     "execution_count": 16,
     "metadata": {},
     "output_type": "execute_result"
    }
   ],
   "source": [
    "x[0,0]"
   ]
  },
  {
   "cell_type": "code",
   "execution_count": 17,
   "id": "ed429004-5c01-4943-a5e9-c01286263852",
   "metadata": {},
   "outputs": [],
   "source": [
    "x = torch.rand(size=(3,4))\n",
    "y= torch.rand(size=(3,4))"
   ]
  },
  {
   "cell_type": "markdown",
   "id": "65716e42-28cc-40c3-b5f1-52bac50844ac",
   "metadata": {},
   "source": [
    "## Concatenation"
   ]
  },
  {
   "cell_type": "code",
   "execution_count": 18,
   "id": "2cd3567a-7d33-48e6-9c0a-28551af73c4a",
   "metadata": {},
   "outputs": [
    {
     "data": {
      "text/plain": [
       "tensor([[0.5871, 0.0726, 0.5634, 0.4524],\n",
       "        [0.6146, 0.3328, 0.6508, 0.3215],\n",
       "        [0.4353, 0.4752, 0.3531, 0.2023],\n",
       "        [0.0753, 0.5408, 0.7042, 0.0461],\n",
       "        [0.0838, 0.2074, 0.2575, 0.3130],\n",
       "        [0.6356, 0.8841, 0.8065, 0.2591]])"
      ]
     },
     "execution_count": 18,
     "metadata": {},
     "output_type": "execute_result"
    }
   ],
   "source": [
    "torch.cat((x,y), dim=0)"
   ]
  },
  {
   "cell_type": "code",
   "execution_count": 19,
   "id": "127a06fc-a6f3-43e7-a2f2-0dddfce56a14",
   "metadata": {},
   "outputs": [
    {
     "data": {
      "text/plain": [
       "tensor([[0.5871, 0.0726, 0.5634, 0.4524, 0.0753, 0.5408, 0.7042, 0.0461],\n",
       "        [0.6146, 0.3328, 0.6508, 0.3215, 0.0838, 0.2074, 0.2575, 0.3130],\n",
       "        [0.4353, 0.4752, 0.3531, 0.2023, 0.6356, 0.8841, 0.8065, 0.2591]])"
      ]
     },
     "execution_count": 19,
     "metadata": {},
     "output_type": "execute_result"
    }
   ],
   "source": [
    "torch.cat((x,y), dim=1)"
   ]
  },
  {
   "cell_type": "markdown",
   "id": "522b569f-5675-48fe-8dbc-0c57dcc60099",
   "metadata": {},
   "source": [
    "## Reshaping"
   ]
  },
  {
   "cell_type": "code",
   "execution_count": 20,
   "id": "f760feba-c007-4593-b366-f45a745e1c18",
   "metadata": {},
   "outputs": [
    {
     "data": {
      "text/plain": [
       "tensor([[0.5871, 0.0726, 0.5634, 0.4524],\n",
       "        [0.6146, 0.3328, 0.6508, 0.3215],\n",
       "        [0.4353, 0.4752, 0.3531, 0.2023]])"
      ]
     },
     "execution_count": 20,
     "metadata": {},
     "output_type": "execute_result"
    }
   ],
   "source": [
    "x"
   ]
  },
  {
   "cell_type": "code",
   "execution_count": 21,
   "id": "73cb75e5-51ac-4329-83ba-41821de7b09d",
   "metadata": {},
   "outputs": [
    {
     "data": {
      "text/plain": [
       "torch.Size([3, 4])"
      ]
     },
     "execution_count": 21,
     "metadata": {},
     "output_type": "execute_result"
    }
   ],
   "source": [
    "x.shape"
   ]
  },
  {
   "cell_type": "code",
   "execution_count": 23,
   "id": "e496783b-fb8a-47a0-94f9-05247688dfce",
   "metadata": {},
   "outputs": [
    {
     "data": {
      "text/plain": [
       "tensor([[0.5871, 0.0726, 0.5634, 0.4524, 0.6146, 0.3328],\n",
       "        [0.6508, 0.3215, 0.4353, 0.4752, 0.3531, 0.2023]])"
      ]
     },
     "execution_count": 23,
     "metadata": {},
     "output_type": "execute_result"
    }
   ],
   "source": [
    "x.reshape(2,6)"
   ]
  },
  {
   "cell_type": "code",
   "execution_count": 25,
   "id": "305d27ce-ac04-46d5-95cf-b5fb6661b74d",
   "metadata": {},
   "outputs": [
    {
     "ename": "RuntimeError",
     "evalue": "shape '[2, 4]' is invalid for input of size 12",
     "output_type": "error",
     "traceback": [
      "\u001b[1;31m---------------------------------------------------------------------------\u001b[0m",
      "\u001b[1;31mRuntimeError\u001b[0m                              Traceback (most recent call last)",
      "Cell \u001b[1;32mIn[25], line 1\u001b[0m\n\u001b[1;32m----> 1\u001b[0m \u001b[43mx\u001b[49m\u001b[38;5;241;43m.\u001b[39;49m\u001b[43mreshape\u001b[49m\u001b[43m(\u001b[49m\u001b[38;5;241;43m2\u001b[39;49m\u001b[43m,\u001b[49m\u001b[38;5;241;43m4\u001b[39;49m\u001b[43m)\u001b[49m\n",
      "\u001b[1;31mRuntimeError\u001b[0m: shape '[2, 4]' is invalid for input of size 12"
     ]
    }
   ],
   "source": [
    "x.reshape(2,4)  # number of elements should match"
   ]
  },
  {
   "cell_type": "code",
   "execution_count": 26,
   "id": "029b5a94-e063-4835-be7d-ab3e883d7c19",
   "metadata": {},
   "outputs": [
    {
     "data": {
      "text/plain": [
       "tensor([[0.5871, 0.0726, 0.5634, 0.4524, 0.6146, 0.3328, 0.6508, 0.3215, 0.4353,\n",
       "         0.4752, 0.3531, 0.2023]])"
      ]
     },
     "execution_count": 26,
     "metadata": {},
     "output_type": "execute_result"
    }
   ],
   "source": [
    "x.reshape(1,12)"
   ]
  },
  {
   "cell_type": "code",
   "execution_count": 27,
   "id": "d8a7d610-229b-4ac2-9aca-ad2eaa552560",
   "metadata": {},
   "outputs": [
    {
     "data": {
      "text/plain": [
       "tensor([[0.5871],\n",
       "        [0.0726],\n",
       "        [0.5634],\n",
       "        [0.4524],\n",
       "        [0.6146],\n",
       "        [0.3328],\n",
       "        [0.6508],\n",
       "        [0.3215],\n",
       "        [0.4353],\n",
       "        [0.4752],\n",
       "        [0.3531],\n",
       "        [0.2023]])"
      ]
     },
     "execution_count": 27,
     "metadata": {},
     "output_type": "execute_result"
    }
   ],
   "source": [
    "x.reshape(12,1)"
   ]
  },
  {
   "cell_type": "code",
   "execution_count": 28,
   "id": "59664b63-1fe4-4570-b76a-0b75db1a0c8d",
   "metadata": {},
   "outputs": [
    {
     "data": {
      "text/plain": [
       "tensor([[0.5871, 0.0726, 0.5634, 0.4524],\n",
       "        [0.6146, 0.3328, 0.6508, 0.3215],\n",
       "        [0.4353, 0.4752, 0.3531, 0.2023]])"
      ]
     },
     "execution_count": 28,
     "metadata": {},
     "output_type": "execute_result"
    }
   ],
   "source": [
    "x"
   ]
  },
  {
   "cell_type": "code",
   "execution_count": 33,
   "id": "b0afcce2-d7b8-47ea-98bf-c43c653b8ff8",
   "metadata": {},
   "outputs": [
    {
     "data": {
      "text/plain": [
       "torch.Size([3, 4])"
      ]
     },
     "execution_count": 33,
     "metadata": {},
     "output_type": "execute_result"
    }
   ],
   "source": [
    "x.shape"
   ]
  },
  {
   "cell_type": "code",
   "execution_count": 32,
   "id": "8f31dcf0-66cf-46e8-82a5-928ded747d0b",
   "metadata": {},
   "outputs": [
    {
     "data": {
      "text/plain": [
       "tensor([0.5871, 0.0726, 0.5634, 0.4524, 0.6146, 0.3328, 0.6508, 0.3215, 0.4353,\n",
       "        0.4752, 0.3531, 0.2023])"
      ]
     },
     "execution_count": 32,
     "metadata": {},
     "output_type": "execute_result"
    }
   ],
   "source": [
    "# Flatening \n",
    "x.view(-1)"
   ]
  },
  {
   "cell_type": "code",
   "execution_count": 34,
   "id": "dca72aab-c8a4-431c-944c-87b626abe6c5",
   "metadata": {},
   "outputs": [
    {
     "data": {
      "text/plain": [
       "torch.Size([12])"
      ]
     },
     "execution_count": 34,
     "metadata": {},
     "output_type": "execute_result"
    }
   ],
   "source": [
    "x.view(-1).shape # flattening a tensor"
   ]
  },
  {
   "cell_type": "code",
   "execution_count": 38,
   "id": "d5b03c2a-dc9f-499d-919b-b01b65ca5ae6",
   "metadata": {},
   "outputs": [
    {
     "data": {
      "text/plain": [
       "tensor([[0.6671, 0.1461, 0.4456, 0.1117, 0.8637, 0.2523, 0.8669, 0.4059, 0.5099,\n",
       "         0.1737],\n",
       "        [0.3297, 0.9520, 0.2989, 0.1645, 0.9270, 0.8445, 0.1380, 0.0177, 0.8309,\n",
       "         0.3720],\n",
       "        [0.6398, 0.4571, 0.2822, 0.9596, 0.9266, 0.0565, 0.1670, 0.1426, 0.7326,\n",
       "         0.2713],\n",
       "        [0.8439, 0.1151, 0.1750, 0.2448, 0.7857, 0.1535, 0.1558, 0.2594, 0.7661,\n",
       "         0.2719],\n",
       "        [0.2761, 0.5677, 0.3171, 0.0735, 0.7185, 0.9571, 0.7896, 0.1748, 0.0187,\n",
       "         0.8639],\n",
       "        [0.9918, 0.8273, 0.9624, 0.9286, 0.3543, 0.9159, 0.3272, 0.7747, 0.2971,\n",
       "         0.2054],\n",
       "        [0.9533, 0.8606, 0.5678, 0.5930, 0.8537, 0.4492, 0.5367, 0.2711, 0.3891,\n",
       "         0.1705],\n",
       "        [0.2467, 0.9715, 0.4166, 0.6319, 0.0795, 0.4363, 0.7695, 0.3343, 0.7140,\n",
       "         0.9782],\n",
       "        [0.4674, 0.3465, 0.8992, 0.7211, 0.6643, 0.6126, 0.9259, 0.5891, 0.1416,\n",
       "         0.1738],\n",
       "        [0.4044, 0.9273, 0.2240, 0.9920, 0.8317, 0.3439, 0.8628, 0.6912, 0.3373,\n",
       "         0.1212],\n",
       "        [0.7698, 0.6236, 0.4682, 0.6751, 0.8946, 0.5470, 0.1723, 0.7717, 0.7952,\n",
       "         0.9575],\n",
       "        [0.5291, 0.9140, 0.2722, 0.6623, 0.9489, 0.0312, 0.4770, 0.7581, 0.6411,\n",
       "         0.9381],\n",
       "        [0.1724, 0.7212, 0.4598, 0.3685, 0.5367, 0.9147, 0.7312, 0.2966, 0.0432,\n",
       "         0.8363],\n",
       "        [0.8147, 0.3690, 0.9310, 0.0644, 0.8655, 0.5458, 0.5224, 0.3353, 0.4728,\n",
       "         0.4456],\n",
       "        [0.0709, 0.9985, 0.9256, 0.4799, 0.3791, 0.0201, 0.4475, 0.0912, 0.8661,\n",
       "         0.7557],\n",
       "        [0.9676, 0.1268, 0.4640, 0.8881, 0.0827, 0.4308, 0.4719, 0.1219, 0.0080,\n",
       "         0.0350]])"
      ]
     },
     "execution_count": 38,
     "metadata": {},
     "output_type": "execute_result"
    }
   ],
   "source": [
    "# batch falttening  ops\n",
    "batch= 16\n",
    "torch.rand((batch, 2,5)).view((batch,-1))"
   ]
  },
  {
   "cell_type": "code",
   "execution_count": 39,
   "id": "7c7f08b3-88a5-4ed4-a69f-22c3627e2383",
   "metadata": {},
   "outputs": [
    {
     "data": {
      "text/plain": [
       "torch.Size([16, 2, 5])"
      ]
     },
     "execution_count": 39,
     "metadata": {},
     "output_type": "execute_result"
    }
   ],
   "source": [
    "torch.rand((batch, 2,5)).shape"
   ]
  },
  {
   "cell_type": "code",
   "execution_count": 40,
   "id": "0f06e2ce-cd01-4043-bac8-34c9a3ee6aea",
   "metadata": {},
   "outputs": [
    {
     "data": {
      "text/plain": [
       "torch.Size([16, 10])"
      ]
     },
     "execution_count": 40,
     "metadata": {},
     "output_type": "execute_result"
    }
   ],
   "source": [
    "torch.rand((batch, 2,5)).view((batch,-1)).shape"
   ]
  },
  {
   "cell_type": "code",
   "execution_count": null,
   "id": "8b5f65c4-4581-414d-b851-bfdb74691348",
   "metadata": {},
   "outputs": [],
   "source": []
  }
 ],
 "metadata": {
  "kernelspec": {
   "display_name": "Python 3 (ipykernel)",
   "language": "python",
   "name": "python3"
  },
  "language_info": {
   "codemirror_mode": {
    "name": "ipython",
    "version": 3
   },
   "file_extension": ".py",
   "mimetype": "text/x-python",
   "name": "python",
   "nbconvert_exporter": "python",
   "pygments_lexer": "ipython3",
   "version": "3.8.19"
  }
 },
 "nbformat": 4,
 "nbformat_minor": 5
}
