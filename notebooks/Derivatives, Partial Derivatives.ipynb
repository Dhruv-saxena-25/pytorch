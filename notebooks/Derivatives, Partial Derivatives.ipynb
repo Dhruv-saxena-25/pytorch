{
 "cells": [
  {
   "cell_type": "code",
   "execution_count": 1,
   "id": "7782225e-2e9e-4bc0-9893-ebdcf6c3f1bd",
   "metadata": {},
   "outputs": [],
   "source": [
    "import torch\n",
    "import numpy as np"
   ]
  },
  {
   "cell_type": "markdown",
   "id": "bf288feb-0282-4ee8-b6c4-f2d4df47297e",
   "metadata": {},
   "source": [
    "## Derivaitves"
   ]
  },
  {
   "cell_type": "code",
   "execution_count": 2,
   "id": "65a39ea6-5759-4cba-80a5-e2c384b62a09",
   "metadata": {},
   "outputs": [
    {
     "data": {
      "text/plain": [
       "tensor(5., requires_grad=True)"
      ]
     },
     "execution_count": 2,
     "metadata": {},
     "output_type": "execute_result"
    }
   ],
   "source": [
    "x = torch.tensor(5.0, requires_grad=True)\n",
    "x"
   ]
  },
  {
   "cell_type": "markdown",
   "id": "b473dcec-6230-4667-8566-b7927c7673c9",
   "metadata": {},
   "source": [
    "$x= 5.0$\n",
    "\n",
    "$y = x^2 => f(x) = x^2 $ "
   ]
  },
  {
   "cell_type": "code",
   "execution_count": 6,
   "id": "bd250607-95ba-49c5-9b66-950de4665d06",
   "metadata": {},
   "outputs": [
    {
     "data": {
      "text/plain": [
       "tensor(25., grad_fn=<PowBackward0>)"
      ]
     },
     "execution_count": 6,
     "metadata": {},
     "output_type": "execute_result"
    }
   ],
   "source": [
    "y = x ** 2\n",
    "y"
   ]
  },
  {
   "cell_type": "markdown",
   "id": "c231f4fb-ba89-45ef-9b13-7c56622564ce",
   "metadata": {},
   "source": [
    "$\\frac{dy}{dx} = 2x$\n",
    "\n",
    "$f'(x=5.0) = 2*5.0= 10.0$"
   ]
  },
  {
   "cell_type": "code",
   "execution_count": 7,
   "id": "55479ccc-3bc7-46f7-ae6b-4f951bee5266",
   "metadata": {},
   "outputs": [
    {
     "data": {
      "text/plain": [
       "tensor(20.)"
      ]
     },
     "execution_count": 7,
     "metadata": {},
     "output_type": "execute_result"
    }
   ],
   "source": [
    "y.backward()\n",
    "\n",
    "x.grad"
   ]
  },
  {
   "cell_type": "markdown",
   "id": "71d8369d-152d-48de-857d-79a184d17862",
   "metadata": {},
   "source": [
    "## Partial Derivative"
   ]
  },
  {
   "cell_type": "code",
   "execution_count": 9,
   "id": "afa3dede-8ddf-4919-91ec-2cad183711a7",
   "metadata": {},
   "outputs": [],
   "source": [
    "x = torch.tensor(5.0, requires_grad=True)\n",
    "y = torch.tensor(5.0, requires_grad=True)"
   ]
  },
  {
   "cell_type": "code",
   "execution_count": 10,
   "id": "5ae10b15-98bd-4390-b4be-5ebe0b3d313c",
   "metadata": {},
   "outputs": [],
   "source": [
    "f = x**2 + y**2"
   ]
  },
  {
   "cell_type": "code",
   "execution_count": 11,
   "id": "c55dbffc-bc32-42e1-968b-24be5e283797",
   "metadata": {},
   "outputs": [],
   "source": [
    "f.backward()"
   ]
  },
  {
   "cell_type": "code",
   "execution_count": 12,
   "id": "0203277a-6e09-442a-ae23-e6badfdc7b39",
   "metadata": {},
   "outputs": [
    {
     "data": {
      "text/plain": [
       "<AddBackward0 at 0x1fd12863160>"
      ]
     },
     "execution_count": 12,
     "metadata": {},
     "output_type": "execute_result"
    }
   ],
   "source": [
    "f.grad_fn"
   ]
  },
  {
   "cell_type": "code",
   "execution_count": 13,
   "id": "b7369baf-7f4a-4693-83cb-ddf82322b255",
   "metadata": {},
   "outputs": [
    {
     "data": {
      "text/plain": [
       "tensor(10.)"
      ]
     },
     "execution_count": 13,
     "metadata": {},
     "output_type": "execute_result"
    }
   ],
   "source": [
    "x.grad # partial derivative wrt x at x = 5 and y =5"
   ]
  },
  {
   "cell_type": "code",
   "execution_count": 15,
   "id": "c6dd8419-a947-41e0-8394-97c44f2132e2",
   "metadata": {},
   "outputs": [
    {
     "data": {
      "text/plain": [
       "tensor(10.)"
      ]
     },
     "execution_count": 15,
     "metadata": {},
     "output_type": "execute_result"
    }
   ],
   "source": [
    "y.grad # partial derivative wrt y at x = 5 and y =5"
   ]
  },
  {
   "cell_type": "code",
   "execution_count": 24,
   "id": "122ea465-1f73-4820-94d1-a21f9324b612",
   "metadata": {},
   "outputs": [],
   "source": [
    "x = torch.tensor(5.0, requires_grad=True)\n",
    "y = torch.tensor(5.0, requires_grad=True)"
   ]
  },
  {
   "cell_type": "code",
   "execution_count": 25,
   "id": "7a3483dc-84f2-41a6-a9d4-919510d23a40",
   "metadata": {},
   "outputs": [],
   "source": [
    "f2= x**2 * y**2"
   ]
  },
  {
   "cell_type": "markdown",
   "id": "3d2c63ec-5cf6-4d60-8dda-2812794a444c",
   "metadata": {},
   "source": [
    "$f2(x, y) = x^2 . y^2$\n",
    "\n",
    "$\\frac{\\partial f2}{\\partial x } = 2x.y^2$\n",
    "\n",
    "$\\frac{\\partial f2}{\\partial y } = x^2.2y$"
   ]
  },
  {
   "cell_type": "code",
   "execution_count": 26,
   "id": "49f04f3f-4ff3-4bcd-a914-9c46b8a191f7",
   "metadata": {},
   "outputs": [],
   "source": [
    "f2.backward()"
   ]
  },
  {
   "cell_type": "code",
   "execution_count": 27,
   "id": "a98b4da6-4beb-47a4-b99b-dfed78d3b96d",
   "metadata": {},
   "outputs": [
    {
     "data": {
      "text/plain": [
       "<MulBackward0 at 0x1fd12a31520>"
      ]
     },
     "execution_count": 27,
     "metadata": {},
     "output_type": "execute_result"
    }
   ],
   "source": [
    "f2.grad_fn"
   ]
  },
  {
   "cell_type": "code",
   "execution_count": 28,
   "id": "b83c9585-6c15-4881-b863-351bf69aa276",
   "metadata": {},
   "outputs": [
    {
     "data": {
      "text/plain": [
       "tensor(250.)"
      ]
     },
     "execution_count": 28,
     "metadata": {},
     "output_type": "execute_result"
    }
   ],
   "source": [
    "x.grad"
   ]
  },
  {
   "cell_type": "markdown",
   "id": "a1b54f08-b178-41fb-908f-2f1904d698da",
   "metadata": {},
   "source": [
    "## Successive Derivative"
   ]
  },
  {
   "cell_type": "code",
   "execution_count": 29,
   "id": "a7402aae-1383-48d7-a5c1-8c25ff0bb08c",
   "metadata": {},
   "outputs": [],
   "source": [
    "from torch.autograd import grad\n",
    "\n",
    "def nth_derivative(f, wrt, n=2):\n",
    "    for i in range(n):\n",
    "        grads= grad(f, wrt, create_graph=True)[0]\n",
    "        f = grads.sum()\n",
    "    return grads"
   ]
  },
  {
   "cell_type": "code",
   "execution_count": 30,
   "id": "514cec9d-3d9f-404e-9e8a-d94ea36f50dd",
   "metadata": {},
   "outputs": [],
   "source": [
    "x = torch.tensor(5.0, requires_grad=True)"
   ]
  },
  {
   "cell_type": "code",
   "execution_count": null,
   "id": "d9473594-7f49-4211-8b00-faf065a8f7b0",
   "metadata": {},
   "outputs": [],
   "source": [
    "f = x**2 + x**3\n"
   ]
  },
  {
   "cell_type": "markdown",
   "id": "c5b1a915-5c29-47e5-a046-3edf3ba5d6ad",
   "metadata": {},
   "source": [
    "$f(x) = x^2 + x^3$\n",
    "\n",
    "$f'(x) = 2x + 3x^2$\n",
    "\n",
    "$f''(x) = 2 + 6x$\n",
    "\n",
    "$f''(x=5) = 2 + 6*5 = 32$"
   ]
  },
  {
   "cell_type": "code",
   "execution_count": 32,
   "id": "7f872cac-343f-4b0e-bdfa-71956145a379",
   "metadata": {},
   "outputs": [
    {
     "data": {
      "text/plain": [
       "tensor(32., grad_fn=<AddBackward0>)"
      ]
     },
     "execution_count": 32,
     "metadata": {},
     "output_type": "execute_result"
    }
   ],
   "source": [
    "# double derivative\n",
    "nth_derivative(f, x)"
   ]
  },
  {
   "cell_type": "code",
   "execution_count": null,
   "id": "ca6e7542-31a1-4b36-868e-66d10c4ab9a6",
   "metadata": {},
   "outputs": [],
   "source": []
  }
 ],
 "metadata": {
  "kernelspec": {
   "display_name": "Python 3 (ipykernel)",
   "language": "python",
   "name": "python3"
  },
  "language_info": {
   "codemirror_mode": {
    "name": "ipython",
    "version": 3
   },
   "file_extension": ".py",
   "mimetype": "text/x-python",
   "name": "python",
   "nbconvert_exporter": "python",
   "pygments_lexer": "ipython3",
   "version": "3.8.19"
  }
 },
 "nbformat": 4,
 "nbformat_minor": 5
}
