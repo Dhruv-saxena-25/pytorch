{
 "cells": [
  {
   "cell_type": "markdown",
   "id": "4f5e8313-81a0-4fd1-b865-525fe01446d3",
   "metadata": {},
   "source": [
    "# "
   ]
  },
  {
   "cell_type": "code",
   "execution_count": 1,
   "id": "27e42068-256d-4516-9172-27e6ffb040e6",
   "metadata": {},
   "outputs": [],
   "source": [
    "import numpy as np\n",
    "import torch\n",
    "import os"
   ]
  },
  {
   "cell_type": "code",
   "execution_count": 5,
   "id": "b77f5ea0-2865-43bd-8255-66c5636fc7b4",
   "metadata": {},
   "outputs": [
    {
     "data": {
      "text/plain": [
       "(torch.Size([3]), torch.Size([3]))"
      ]
     },
     "execution_count": 5,
     "metadata": {},
     "output_type": "execute_result"
    }
   ],
   "source": [
    "x = torch.arange(start=10, end=20, step=4)\n",
    "y= torch.arange(start=5, end=15, step=4)\n",
    "x.shape, y.shape"
   ]
  },
  {
   "cell_type": "code",
   "execution_count": 6,
   "id": "0c1aed9d-2732-4ae0-a451-760f23be65cb",
   "metadata": {},
   "outputs": [
    {
     "data": {
      "text/plain": [
       "tensor([10, 14, 18])"
      ]
     },
     "execution_count": 6,
     "metadata": {},
     "output_type": "execute_result"
    }
   ],
   "source": [
    "x"
   ]
  },
  {
   "cell_type": "code",
   "execution_count": 7,
   "id": "3c3995a8-3ea1-4ee0-a8fe-602d25d21b70",
   "metadata": {},
   "outputs": [
    {
     "data": {
      "text/plain": [
       "tensor([ 5,  9, 13])"
      ]
     },
     "execution_count": 7,
     "metadata": {},
     "output_type": "execute_result"
    }
   ],
   "source": [
    "y"
   ]
  },
  {
   "cell_type": "code",
   "execution_count": 4,
   "id": "4d9c067c-7713-45fc-92ec-eb4690e64a5b",
   "metadata": {},
   "outputs": [
    {
     "data": {
      "text/plain": [
       "tensor([15, 23, 31])"
      ]
     },
     "execution_count": 4,
     "metadata": {},
     "output_type": "execute_result"
    }
   ],
   "source": [
    "x+y"
   ]
  },
  {
   "cell_type": "code",
   "execution_count": 8,
   "id": "102615e0-ab8f-4606-8f2f-090dc31289ff",
   "metadata": {},
   "outputs": [
    {
     "data": {
      "text/plain": [
       "tensor([5, 5, 5])"
      ]
     },
     "execution_count": 8,
     "metadata": {},
     "output_type": "execute_result"
    }
   ],
   "source": [
    "x-y"
   ]
  },
  {
   "cell_type": "code",
   "execution_count": 9,
   "id": "7297a7dd-3dba-40d7-a138-cf6f4670aad6",
   "metadata": {},
   "outputs": [
    {
     "data": {
      "text/plain": [
       "tensor([ 50, 126, 234])"
      ]
     },
     "execution_count": 9,
     "metadata": {},
     "output_type": "execute_result"
    }
   ],
   "source": [
    "x*y #<< element wise multiplication"
   ]
  },
  {
   "cell_type": "code",
   "execution_count": 27,
   "id": "c76ea0ed-7be8-43a6-a503-f087c7001a2b",
   "metadata": {},
   "outputs": [
    {
     "data": {
      "text/plain": [
       "tensor(410)"
      ]
     },
     "execution_count": 27,
     "metadata": {},
     "output_type": "execute_result"
    }
   ],
   "source": [
    "torch.dot(x,y)"
   ]
  },
  {
   "cell_type": "code",
   "execution_count": 10,
   "id": "9e93bf07-bcbd-4b71-b515-78e1e791e9fc",
   "metadata": {},
   "outputs": [
    {
     "data": {
      "text/plain": [
       "tensor([2.0000, 1.5556, 1.3846])"
      ]
     },
     "execution_count": 10,
     "metadata": {},
     "output_type": "execute_result"
    }
   ],
   "source": [
    "x/y  #<< element wise division"
   ]
  },
  {
   "cell_type": "code",
   "execution_count": 12,
   "id": "0896b311-ec50-4fb3-9290-9abcd540e6c6",
   "metadata": {},
   "outputs": [
    {
     "data": {
      "text/plain": [
       "tensor([1., 1., 1.])"
      ]
     },
     "execution_count": 12,
     "metadata": {},
     "output_type": "execute_result"
    }
   ],
   "source": [
    "z= torch.ones(3)\n",
    "z"
   ]
  },
  {
   "cell_type": "code",
   "execution_count": 14,
   "id": "ec39135f-851f-45f0-8bc4-3fb60b5ab671",
   "metadata": {},
   "outputs": [
    {
     "data": {
      "text/plain": [
       "tensor([21., 29., 37.])"
      ]
     },
     "execution_count": 14,
     "metadata": {},
     "output_type": "execute_result"
    }
   ],
   "source": [
    "z= z+x\n",
    "z"
   ]
  },
  {
   "cell_type": "code",
   "execution_count": 15,
   "id": "ac356617-3120-4257-b0d0-6b0765422b88",
   "metadata": {},
   "outputs": [
    {
     "data": {
      "text/plain": [
       "tensor([31., 43., 55.])"
      ]
     },
     "execution_count": 15,
     "metadata": {},
     "output_type": "execute_result"
    }
   ],
   "source": [
    "# inplace addition \n",
    "z.add_(x)"
   ]
  },
  {
   "cell_type": "code",
   "execution_count": 16,
   "id": "dd9f3a7e-88de-485d-a064-fc5f9735632b",
   "metadata": {},
   "outputs": [
    {
     "data": {
      "text/plain": [
       "tensor([100, 196, 324])"
      ]
     },
     "execution_count": 16,
     "metadata": {},
     "output_type": "execute_result"
    }
   ],
   "source": [
    "x.pow(2)"
   ]
  },
  {
   "cell_type": "code",
   "execution_count": 17,
   "id": "5cb5c1b4-c186-4d7b-a67b-4e167fb92912",
   "metadata": {},
   "outputs": [
    {
     "data": {
      "text/plain": [
       "tensor([100, 196, 324])"
      ]
     },
     "execution_count": 17,
     "metadata": {},
     "output_type": "execute_result"
    }
   ],
   "source": [
    "x**2"
   ]
  },
  {
   "cell_type": "code",
   "execution_count": 18,
   "id": "2d95c055-bd27-4cf0-8f61-3a355bc7dd95",
   "metadata": {},
   "outputs": [
    {
     "data": {
      "text/plain": [
       "tensor([True, True, True])"
      ]
     },
     "execution_count": 18,
     "metadata": {},
     "output_type": "execute_result"
    }
   ],
   "source": [
    "x >0"
   ]
  },
  {
   "cell_type": "code",
   "execution_count": 21,
   "id": "80477627-4aad-4dbc-b736-93467cb9a896",
   "metadata": {},
   "outputs": [],
   "source": [
    "# Matrix Multiplication\n",
    "A = torch.rand(size=(3,5))\n",
    "B= torch.rand(size=(5,4))"
   ]
  },
  {
   "cell_type": "code",
   "execution_count": 22,
   "id": "1c57688a-41c0-4fe6-a63e-3f39794fce16",
   "metadata": {},
   "outputs": [
    {
     "data": {
      "text/plain": [
       "tensor([[1.3896, 2.2202, 2.1122, 0.7249],\n",
       "        [1.0981, 1.5520, 1.2161, 0.7590],\n",
       "        [0.4104, 1.0674, 0.9884, 0.5505]])"
      ]
     },
     "execution_count": 22,
     "metadata": {},
     "output_type": "execute_result"
    }
   ],
   "source": [
    "A @ B"
   ]
  },
  {
   "cell_type": "code",
   "execution_count": 23,
   "id": "e641cca4-f76b-44f3-b725-70ac8a90b3e6",
   "metadata": {},
   "outputs": [
    {
     "data": {
      "text/plain": [
       "tensor([[1.3896, 2.2202, 2.1122, 0.7249],\n",
       "        [1.0981, 1.5520, 1.2161, 0.7590],\n",
       "        [0.4104, 1.0674, 0.9884, 0.5505]])"
      ]
     },
     "execution_count": 23,
     "metadata": {},
     "output_type": "execute_result"
    }
   ],
   "source": [
    "A.matmul(B)"
   ]
  },
  {
   "cell_type": "code",
   "execution_count": 24,
   "id": "86217b11-ed0c-4777-9ddd-ed02c1eebf09",
   "metadata": {},
   "outputs": [
    {
     "data": {
      "text/plain": [
       "tensor([[1.4428, 0.6731, 0.5526],\n",
       "        [0.3178, 1.6540, 0.9900],\n",
       "        [0.5409, 1.3382, 2.2459]])"
      ]
     },
     "execution_count": 24,
     "metadata": {},
     "output_type": "execute_result"
    }
   ],
   "source": [
    "X= torch.rand(size= (3,3))\n",
    "X.matrix_exp()"
   ]
  },
  {
   "cell_type": "code",
   "execution_count": 26,
   "id": "ea16f86b-6746-40a4-8ac6-a3e48e561f0b",
   "metadata": {},
   "outputs": [
    {
     "data": {
      "text/plain": [
       "tensor([[0.1982, 0.3707, 0.4171],\n",
       "        [0.2294, 0.5463, 0.5110],\n",
       "        [0.3420, 0.7278, 0.8460]])"
      ]
     },
     "execution_count": 26,
     "metadata": {},
     "output_type": "execute_result"
    }
   ],
   "source": [
    "X.matrix_power(2)"
   ]
  },
  {
   "cell_type": "code",
   "execution_count": 30,
   "id": "e44dd2d3-b948-423c-801a-d1e87bdd6a0e",
   "metadata": {},
   "outputs": [
    {
     "data": {
      "text/plain": [
       "tensor([[0.3980, 0.2148, 0.7507, 0.9010, 0.4744],\n",
       "        [0.3100, 0.9869, 0.0309, 0.2555, 0.5633],\n",
       "        [0.0884, 0.3481, 0.6584, 0.0705, 0.1281]])"
      ]
     },
     "execution_count": 30,
     "metadata": {},
     "output_type": "execute_result"
    }
   ],
   "source": [
    "# Broadcasting\n",
    "\n",
    "A "
   ]
  },
  {
   "cell_type": "code",
   "execution_count": 31,
   "id": "2bf22308-8032-447b-bf13-926f7a45d4e9",
   "metadata": {},
   "outputs": [
    {
     "data": {
      "text/plain": [
       "tensor([[1.3980, 1.2148, 1.7507, 1.9010, 1.4744],\n",
       "        [1.3100, 1.9869, 1.0309, 1.2555, 1.5633],\n",
       "        [1.0884, 1.3481, 1.6584, 1.0705, 1.1281]])"
      ]
     },
     "execution_count": 31,
     "metadata": {},
     "output_type": "execute_result"
    }
   ],
   "source": [
    "A + 1"
   ]
  },
  {
   "cell_type": "code",
   "execution_count": 32,
   "id": "6bd15de2-8936-4434-b219-c781189ca2d8",
   "metadata": {},
   "outputs": [
    {
     "data": {
      "text/plain": [
       "tensor([[-0.6020, -0.7852, -0.2493, -0.0990, -0.5256],\n",
       "        [-0.6900, -0.0131, -0.9691, -0.7445, -0.4367],\n",
       "        [-0.9116, -0.6519, -0.3416, -0.9295, -0.8719]])"
      ]
     },
     "execution_count": 32,
     "metadata": {},
     "output_type": "execute_result"
    }
   ],
   "source": [
    "A - 1"
   ]
  },
  {
   "cell_type": "code",
   "execution_count": 33,
   "id": "3fbb2f9f-6d86-4f05-b547-539cc28522ad",
   "metadata": {},
   "outputs": [
    {
     "data": {
      "text/plain": [
       "tensor([[1.9902, 1.0741, 3.7534, 4.5048, 2.3719],\n",
       "        [1.5498, 4.9347, 0.1547, 1.2773, 2.8165],\n",
       "        [0.4419, 1.7403, 3.2918, 0.3527, 0.6406]])"
      ]
     },
     "execution_count": 33,
     "metadata": {},
     "output_type": "execute_result"
    }
   ],
   "source": [
    "A * 5"
   ]
  },
  {
   "cell_type": "code",
   "execution_count": 34,
   "id": "ce989394-90bb-485f-bb0d-437c4925fef5",
   "metadata": {},
   "outputs": [
    {
     "data": {
      "text/plain": [
       "torch.Size([3, 5])"
      ]
     },
     "execution_count": 34,
     "metadata": {},
     "output_type": "execute_result"
    }
   ],
   "source": [
    "A.shape"
   ]
  },
  {
   "cell_type": "code",
   "execution_count": 35,
   "id": "b936716b-80ee-46fa-a109-5b2d64ac45fd",
   "metadata": {},
   "outputs": [
    {
     "data": {
      "text/plain": [
       "tensor([[1., 1., 1., 1., 1.]])"
      ]
     },
     "execution_count": 35,
     "metadata": {},
     "output_type": "execute_result"
    }
   ],
   "source": [
    "C = torch.ones(size= (1,5))\n",
    "C"
   ]
  },
  {
   "cell_type": "code",
   "execution_count": 38,
   "id": "98b3838c-ff6f-422e-9f40-68f26e98dee2",
   "metadata": {},
   "outputs": [
    {
     "data": {
      "text/plain": [
       "tensor([[0.3980, 0.2148, 0.7507, 0.9010, 0.4744],\n",
       "        [0.3100, 0.9869, 0.0309, 0.2555, 0.5633],\n",
       "        [0.0884, 0.3481, 0.6584, 0.0705, 0.1281]])"
      ]
     },
     "execution_count": 38,
     "metadata": {},
     "output_type": "execute_result"
    }
   ],
   "source": [
    "A"
   ]
  },
  {
   "cell_type": "code",
   "execution_count": 36,
   "id": "87e81836-1b27-4601-8c00-c5b0d9e2490c",
   "metadata": {},
   "outputs": [
    {
     "data": {
      "text/plain": [
       "tensor([[-0.6020, -0.7852, -0.2493, -0.0990, -0.5256],\n",
       "        [-0.6900, -0.0131, -0.9691, -0.7445, -0.4367],\n",
       "        [-0.9116, -0.6519, -0.3416, -0.9295, -0.8719]])"
      ]
     },
     "execution_count": 36,
     "metadata": {},
     "output_type": "execute_result"
    }
   ],
   "source": [
    "A - C"
   ]
  },
  {
   "cell_type": "code",
   "execution_count": 37,
   "id": "278fe3c0-d183-4916-9688-00bfe067728f",
   "metadata": {},
   "outputs": [
    {
     "data": {
      "text/plain": [
       "tensor([[1.3980, 1.2148, 1.7507, 1.9010, 1.4744],\n",
       "        [1.3100, 1.9869, 1.0309, 1.2555, 1.5633],\n",
       "        [1.0884, 1.3481, 1.6584, 1.0705, 1.1281]])"
      ]
     },
     "execution_count": 37,
     "metadata": {},
     "output_type": "execute_result"
    }
   ],
   "source": [
    "A + C"
   ]
  },
  {
   "cell_type": "code",
   "execution_count": 39,
   "id": "1dda4feb-92c4-4c6f-9025-6d53248ba98d",
   "metadata": {},
   "outputs": [
    {
     "data": {
      "text/plain": [
       "tensor([[1.],\n",
       "        [1.],\n",
       "        [1.]])"
      ]
     },
     "execution_count": 39,
     "metadata": {},
     "output_type": "execute_result"
    }
   ],
   "source": [
    "D = torch.ones(size= (3,1))\n",
    "D"
   ]
  },
  {
   "cell_type": "code",
   "execution_count": 40,
   "id": "e89ab06f-fe9f-432a-8ccd-cfacb3a35f17",
   "metadata": {},
   "outputs": [
    {
     "data": {
      "text/plain": [
       "tensor([[0.3980, 0.2148, 0.7507, 0.9010, 0.4744],\n",
       "        [0.3100, 0.9869, 0.0309, 0.2555, 0.5633],\n",
       "        [0.0884, 0.3481, 0.6584, 0.0705, 0.1281]])"
      ]
     },
     "execution_count": 40,
     "metadata": {},
     "output_type": "execute_result"
    }
   ],
   "source": [
    "A"
   ]
  },
  {
   "cell_type": "code",
   "execution_count": 41,
   "id": "6ae03cb9-19ad-4ac7-b6c2-51cec4a664a5",
   "metadata": {},
   "outputs": [
    {
     "data": {
      "text/plain": [
       "tensor([[-0.6020, -0.7852, -0.2493, -0.0990, -0.5256],\n",
       "        [-0.6900, -0.0131, -0.9691, -0.7445, -0.4367],\n",
       "        [-0.9116, -0.6519, -0.3416, -0.9295, -0.8719]])"
      ]
     },
     "execution_count": 41,
     "metadata": {},
     "output_type": "execute_result"
    }
   ],
   "source": [
    "A - D"
   ]
  },
  {
   "cell_type": "code",
   "execution_count": 43,
   "id": "8815f748-e94f-4df5-a21c-c56d8289b771",
   "metadata": {},
   "outputs": [
    {
     "data": {
      "text/plain": [
       "tensor([[1.3980, 1.2148, 1.7507, 1.9010, 1.4744],\n",
       "        [1.3100, 1.9869, 1.0309, 1.2555, 1.5633],\n",
       "        [1.0884, 1.3481, 1.6584, 1.0705, 1.1281]])"
      ]
     },
     "execution_count": 43,
     "metadata": {},
     "output_type": "execute_result"
    }
   ],
   "source": [
    "A + D"
   ]
  },
  {
   "cell_type": "code",
   "execution_count": 45,
   "id": "96e25595-16c1-4c34-8bda-045d2ebf406b",
   "metadata": {},
   "outputs": [
    {
     "data": {
      "text/plain": [
       "tensor([[1.],\n",
       "        [1.],\n",
       "        [1.]])"
      ]
     },
     "execution_count": 45,
     "metadata": {},
     "output_type": "execute_result"
    }
   ],
   "source": [
    "D"
   ]
  },
  {
   "cell_type": "code",
   "execution_count": 46,
   "id": "b84c36e8-b68e-4514-9a81-dc0fe46231d3",
   "metadata": {},
   "outputs": [
    {
     "data": {
      "text/plain": [
       "tensor(3.)"
      ]
     },
     "execution_count": 46,
     "metadata": {},
     "output_type": "execute_result"
    }
   ],
   "source": [
    "torch.sum(D)"
   ]
  },
  {
   "cell_type": "code",
   "execution_count": 47,
   "id": "3b8562da-f7a5-4ab0-afd9-3eca7c47cba6",
   "metadata": {},
   "outputs": [
    {
     "data": {
      "text/plain": [
       "tensor(6.1789)"
      ]
     },
     "execution_count": 47,
     "metadata": {},
     "output_type": "execute_result"
    }
   ],
   "source": [
    "torch.sum(A)"
   ]
  },
  {
   "cell_type": "code",
   "execution_count": 48,
   "id": "cc3707f4-fd57-46f3-b42a-9c8f51cb4b6f",
   "metadata": {},
   "outputs": [
    {
     "data": {
      "text/plain": [
       "tensor([[0.3980, 0.2148, 0.7507, 0.9010, 0.4744],\n",
       "        [0.3100, 0.9869, 0.0309, 0.2555, 0.5633],\n",
       "        [0.0884, 0.3481, 0.6584, 0.0705, 0.1281]])"
      ]
     },
     "execution_count": 48,
     "metadata": {},
     "output_type": "execute_result"
    }
   ],
   "source": [
    " A"
   ]
  },
  {
   "cell_type": "code",
   "execution_count": 49,
   "id": "789fd08c-dc45-4a7d-9f54-598c445b94d7",
   "metadata": {},
   "outputs": [
    {
     "data": {
      "text/plain": [
       "tensor(0.9869)"
      ]
     },
     "execution_count": 49,
     "metadata": {},
     "output_type": "execute_result"
    }
   ],
   "source": [
    "torch.max(A)"
   ]
  },
  {
   "cell_type": "code",
   "execution_count": 50,
   "id": "7f00fcf9-91e8-45b8-838b-239c0cd0c675",
   "metadata": {},
   "outputs": [
    {
     "data": {
      "text/plain": [
       "tensor(0.0309)"
      ]
     },
     "execution_count": 50,
     "metadata": {},
     "output_type": "execute_result"
    }
   ],
   "source": [
    "torch.min(A)"
   ]
  },
  {
   "cell_type": "code",
   "execution_count": 51,
   "id": "b74eae88-363b-41a8-9ff0-fbf721c32fd5",
   "metadata": {},
   "outputs": [
    {
     "data": {
      "text/plain": [
       "torch.return_types.min(\n",
       "values=tensor([0.2148, 0.0309, 0.0705]),\n",
       "indices=tensor([1, 2, 3]))"
      ]
     },
     "execution_count": 51,
     "metadata": {},
     "output_type": "execute_result"
    }
   ],
   "source": [
    "torch.min(A, dim=1)"
   ]
  },
  {
   "cell_type": "code",
   "execution_count": 54,
   "id": "9f0fbb6a-86e6-4017-bc88-f308b58e1321",
   "metadata": {},
   "outputs": [
    {
     "data": {
      "text/plain": [
       "torch.return_types.max(\n",
       "values=tensor([0.9010, 0.9869, 0.6584]),\n",
       "indices=tensor([3, 1, 2]))"
      ]
     },
     "execution_count": 54,
     "metadata": {},
     "output_type": "execute_result"
    }
   ],
   "source": [
    "torch.max(A, dim=1) # Row  wise max value\n"
   ]
  },
  {
   "cell_type": "code",
   "execution_count": 55,
   "id": "f5af9b9f-9826-408a-af7d-20ea45adc949",
   "metadata": {},
   "outputs": [
    {
     "data": {
      "text/plain": [
       "torch.return_types.max(\n",
       "values=tensor([0.3980, 0.9869, 0.7507, 0.9010, 0.5633]),\n",
       "indices=tensor([0, 1, 0, 0, 1]))"
      ]
     },
     "execution_count": 55,
     "metadata": {},
     "output_type": "execute_result"
    }
   ],
   "source": [
    "torch.max(A, dim=0)  # Col wise max value"
   ]
  },
  {
   "cell_type": "code",
   "execution_count": 56,
   "id": "2f637589-a2b4-450b-8f77-a58018bfd069",
   "metadata": {},
   "outputs": [
    {
     "data": {
      "text/plain": [
       "tensor([[0.3980, 0.2148, 0.7507, 0.9010, 0.4744],\n",
       "        [0.3100, 0.9869, 0.0309, 0.2555, 0.5633],\n",
       "        [0.0884, 0.3481, 0.6584, 0.0705, 0.1281]])"
      ]
     },
     "execution_count": 56,
     "metadata": {},
     "output_type": "execute_result"
    }
   ],
   "source": [
    "torch.abs(-A)"
   ]
  },
  {
   "cell_type": "code",
   "execution_count": 60,
   "id": "5bcdee86-ee5c-466b-a62f-17e1b61d022a",
   "metadata": {},
   "outputs": [
    {
     "data": {
      "text/plain": [
       "tensor([[0.3980, 0.2148, 0.7507, 0.9010, 0.4744],\n",
       "        [0.3100, 0.9869, 0.0309, 0.2555, 0.5633],\n",
       "        [0.0884, 0.3481, 0.6584, 0.0705, 0.1281]])"
      ]
     },
     "execution_count": 60,
     "metadata": {},
     "output_type": "execute_result"
    }
   ],
   "source": [
    "A"
   ]
  },
  {
   "cell_type": "code",
   "execution_count": 59,
   "id": "327feb45-cfcc-4e47-8a24-e7676c511521",
   "metadata": {},
   "outputs": [
    {
     "data": {
      "text/plain": [
       "tensor(6)"
      ]
     },
     "execution_count": 59,
     "metadata": {},
     "output_type": "execute_result"
    }
   ],
   "source": [
    "torch.argmax(A)"
   ]
  },
  {
   "cell_type": "code",
   "execution_count": 61,
   "id": "42d604cf-175d-4999-bba4-db1d54efbb4d",
   "metadata": {},
   "outputs": [
    {
     "data": {
      "text/plain": [
       "tensor(7)"
      ]
     },
     "execution_count": 61,
     "metadata": {},
     "output_type": "execute_result"
    }
   ],
   "source": [
    "torch.argmin(A)"
   ]
  },
  {
   "cell_type": "code",
   "execution_count": 62,
   "id": "71cbd993-ba1a-47ec-87ba-b862107d222b",
   "metadata": {},
   "outputs": [
    {
     "data": {
      "text/plain": [
       "tensor([0.2655, 0.5166, 0.4800, 0.4090, 0.3886])"
      ]
     },
     "execution_count": 62,
     "metadata": {},
     "output_type": "execute_result"
    }
   ],
   "source": [
    "torch.mean(A, dim=0) # col wise mean"
   ]
  },
  {
   "cell_type": "code",
   "execution_count": 63,
   "id": "4ffcf416-d296-46ea-a77d-582523ddc6de",
   "metadata": {},
   "outputs": [
    {
     "data": {
      "text/plain": [
       "tensor([0.5478, 0.4293, 0.2587])"
      ]
     },
     "execution_count": 63,
     "metadata": {},
     "output_type": "execute_result"
    }
   ],
   "source": [
    "torch.mean(A, dim=1) # row wise mean"
   ]
  },
  {
   "cell_type": "code",
   "execution_count": 64,
   "id": "6cf52cba-9043-4dc0-84e3-afd6c9944251",
   "metadata": {},
   "outputs": [
    {
     "data": {
      "text/plain": [
       "tensor([[1., 1., 1., 1., 1.],\n",
       "        [1., 1., 1., 1., 1.],\n",
       "        [1., 1., 1., 1., 1.]])"
      ]
     },
     "execution_count": 64,
     "metadata": {},
     "output_type": "execute_result"
    }
   ],
   "source": [
    "D = torch.ones(A.shape)\n",
    "D"
   ]
  },
  {
   "cell_type": "code",
   "execution_count": 65,
   "id": "987d2934-e9f3-44df-ac21-14e882f3cf01",
   "metadata": {},
   "outputs": [
    {
     "data": {
      "text/plain": [
       "tensor([[False, False, False, False, False],\n",
       "        [False, False, False, False, False],\n",
       "        [False, False, False, False, False]])"
      ]
     },
     "execution_count": 65,
     "metadata": {},
     "output_type": "execute_result"
    }
   ],
   "source": [
    "torch.eq(A, D)"
   ]
  },
  {
   "cell_type": "code",
   "execution_count": 66,
   "id": "34fc82e2-0657-4d16-ab24-724898fe56a4",
   "metadata": {},
   "outputs": [
    {
     "data": {
      "text/plain": [
       "tensor([[True, True, True, True, True],\n",
       "        [True, True, True, True, True],\n",
       "        [True, True, True, True, True]])"
      ]
     },
     "execution_count": 66,
     "metadata": {},
     "output_type": "execute_result"
    }
   ],
   "source": [
    "torch.eq(D, D)"
   ]
  },
  {
   "cell_type": "code",
   "execution_count": 67,
   "id": "01f5dd14-740e-4066-bd12-1af710edc28c",
   "metadata": {},
   "outputs": [
    {
     "data": {
      "text/plain": [
       "tensor([[0.3980, 0.2148, 0.7507, 0.9010, 0.4744],\n",
       "        [0.3100, 0.9869, 0.0309, 0.2555, 0.5633],\n",
       "        [0.0884, 0.3481, 0.6584, 0.0705, 0.1281]])"
      ]
     },
     "execution_count": 67,
     "metadata": {},
     "output_type": "execute_result"
    }
   ],
   "source": [
    "A"
   ]
  },
  {
   "cell_type": "code",
   "execution_count": 68,
   "id": "dbccf462-9592-4b12-b78d-579f1c0cfd61",
   "metadata": {},
   "outputs": [
    {
     "data": {
      "text/plain": [
       "torch.return_types.sort(\n",
       "values=tensor([[0.2148, 0.3980, 0.4744, 0.7507, 0.9010],\n",
       "        [0.0309, 0.2555, 0.3100, 0.5633, 0.9869],\n",
       "        [0.0705, 0.0884, 0.1281, 0.3481, 0.6584]]),\n",
       "indices=tensor([[1, 0, 4, 2, 3],\n",
       "        [2, 3, 0, 4, 1],\n",
       "        [3, 0, 4, 1, 2]]))"
      ]
     },
     "execution_count": 68,
     "metadata": {},
     "output_type": "execute_result"
    }
   ],
   "source": [
    "torch.sort(A)"
   ]
  },
  {
   "cell_type": "code",
   "execution_count": 69,
   "id": "628d0307-0390-4610-be45-f6efec90a680",
   "metadata": {},
   "outputs": [
    {
     "data": {
      "text/plain": [
       "tensor([[0.3980, 0.2148, 0.7507, 0.9010, 0.4744],\n",
       "        [0.3100, 0.9869, 0.2000, 0.2555, 0.5633],\n",
       "        [0.2000, 0.3481, 0.6584, 0.2000, 0.2000]])"
      ]
     },
     "execution_count": 69,
     "metadata": {},
     "output_type": "execute_result"
    }
   ],
   "source": [
    "torch.clamp(A, min=0.2)"
   ]
  },
  {
   "cell_type": "code",
   "execution_count": null,
   "id": "8b5e6df2-b6ca-4e3e-afab-c6de4a1f933a",
   "metadata": {},
   "outputs": [],
   "source": []
  }
 ],
 "metadata": {
  "kernelspec": {
   "display_name": "Python 3 (ipykernel)",
   "language": "python",
   "name": "python3"
  },
  "language_info": {
   "codemirror_mode": {
    "name": "ipython",
    "version": 3
   },
   "file_extension": ".py",
   "mimetype": "text/x-python",
   "name": "python",
   "nbconvert_exporter": "python",
   "pygments_lexer": "ipython3",
   "version": "3.8.19"
  }
 },
 "nbformat": 4,
 "nbformat_minor": 5
}
